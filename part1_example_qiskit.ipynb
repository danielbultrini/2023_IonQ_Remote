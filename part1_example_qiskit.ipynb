{
 "cells": [
  {
   "cell_type": "code",
   "execution_count": 1,
   "metadata": {},
   "outputs": [],
   "source": [
    "import qiskit\n",
    "from qiskit import quantum_info\n",
    "from qiskit.execute_function import execute\n",
    "from qiskit import BasicAer\n",
    "import numpy as np\n",
    "import pickle\n",
    "import json\n",
    "import os\n",
    "from collections import Counter\n",
    "from sklearn.metrics import mean_squared_error\n",
    "from typing import Dict, List\n",
    "import matplotlib.pyplot as plt\n",
    "\n",
    "#define utility functions\n",
    "\n",
    "def simulate(circuit: qiskit.QuantumCircuit) -> dict:\n",
    "    \"\"\"Simulate the circuit, give the state vector as the result.\"\"\"\n",
    "    backend = BasicAer.get_backend('statevector_simulator')\n",
    "    job = execute(circuit, backend)\n",
    "    result = job.result()\n",
    "    state_vector = result.get_statevector()\n",
    "    \n",
    "    histogram = dict()\n",
    "    for i in range(len(state_vector)):\n",
    "        population = abs(state_vector[i]) ** 2\n",
    "        if population > 1e-9:\n",
    "            histogram[i] = population\n",
    "    \n",
    "    return histogram\n",
    "\n",
    "\n",
    "def histogram_to_category(histogram):\n",
    "    \"\"\"This function take a histogram representations of circuit execution results, and process into labels as described in \n",
    "    the problem description.\"\"\"\n",
    "    assert abs(sum(histogram.values())-1)<1e-8\n",
    "    positive=0\n",
    "    for key in histogram.keys():\n",
    "        digits = bin(int(key))[2:].zfill(20)\n",
    "        if digits[-1]=='0':\n",
    "            positive+=histogram[key]\n",
    "            \n",
    "    return positive\n",
    "\n",
    "\n",
    "def count_gates(circuit: qiskit.QuantumCircuit) -> Dict[int, int]:\n",
    "    \"\"\"Returns the number of gate operations with each number of qubits.\"\"\"\n",
    "    counter = Counter([len(gate[1]) for gate in circuit.data])\n",
    "    #feel free to comment out the following two lines. But make sure you don't have k-qubit gates in your circuit\n",
    "    #for k>2\n",
    "    for i in range(2,20):\n",
    "        assert counter[i]==0\n",
    "        \n",
    "    return counter\n",
    "\n",
    "\n",
    "def image_mse(image1,image2):\n",
    "    # Using sklearns mean squared error:\n",
    "    # https://scikit-learn.org/stable/modules/generated/sklearn.metrics.mean_squared_error.html\n",
    "    return mean_squared_error(image1, image2)"
   ]
  },
  {
   "cell_type": "code",
   "execution_count": 2,
   "metadata": {},
   "outputs": [],
   "source": [
    "#load the mock data (for testing only)\n",
    "files=os.listdir(\"mock_data\")\n",
    "dataset=list()\n",
    "for file in files:\n",
    "    with open('mock_data/'+file, \"r\") as infile:\n",
    "        loaded = json.load(infile)\n",
    "        dataset.append(loaded)"
   ]
  },
  {
   "cell_type": "code",
   "execution_count": 26,
   "metadata": {},
   "outputs": [
    {
     "name": "stdout",
     "output_type": "stream",
     "text": [
      "True\n"
     ]
    },
    {
     "data": {
      "text/plain": [
       "<matplotlib.image.AxesImage at 0x283b6736e10>"
      ]
     },
     "execution_count": 26,
     "metadata": {},
     "output_type": "execute_result"
    },
    {
     "data": {
      "image/png": "[encoded data removed]",
      "text/plain": [
       "<Figure size 640x480 with 1 Axes>"
      ]
     },
     "metadata": {},
     "output_type": "display_data"
    }
   ],
   "source": [
    "#load the actual hackthon data (fashion-mnist)\n",
    "images=np.load('data/images.npy')\n",
    "labels=np.load('data/labels.npy')\n",
    "#you can visualize it\n",
    "num = 100\n",
    "print(labels[num])\n",
    "plt.imshow(images[num])"
   ]
  },
  {
   "cell_type": "code",
   "execution_count": 21,
   "metadata": {},
   "outputs": [
    {
     "data": {
      "text/plain": [
       "9.614709844115207"
      ]
     },
     "execution_count": 21,
     "metadata": {},
     "output_type": "execute_result"
    }
   ],
   "source": []
  },
  {
   "cell_type": "code",
   "execution_count": 4,
   "metadata": {},
   "outputs": [],
   "source": [
    "#submission to part 1, you should make this into a .py file\n",
    "\n",
    "n=len(dataset)\n",
    "mse=0\n",
    "gatecount=0\n",
    "\n",
    "# Functions 'encode' and 'decode' are dummy.\n",
    "def encode(image):\n",
    "    q = qiskit.QuantumRegister(3)\n",
    "    circuit = qiskit.QuantumCircuit(q)\n",
    "    if image[0][0]==0:\n",
    "        circuit.rx(np.pi,0)\n",
    "    return circuit\n",
    "\n",
    "def decode(histogram):\n",
    "    if 1 in histogram.keys():\n",
    "        image=[[0,0],[0,0]]\n",
    "    else:\n",
    "        image=[[1,1],[1,1]]\n",
    "    return image\n",
    "\n",
    "def run_part1(image):\n",
    "    #encode image into a circuit\n",
    "    circuit=encode(image)\n",
    "\n",
    "    #simulate circuit\n",
    "    histogram=simulate(circuit)\n",
    "\n",
    "    #reconstruct the image\n",
    "    image_re=decode(histogram)\n",
    "\n",
    "    return circuit,image_re"
   ]
  },
  {
   "cell_type": "code",
   "execution_count": 5,
   "metadata": {},
   "outputs": [
    {
     "name": "stdout",
     "output_type": "stream",
     "text": [
      "1.0\n"
     ]
    }
   ],
   "source": [
    "#how we grade your submission\n",
    "\n",
    "n=len(dataset)\n",
    "mse=0\n",
    "gatecount=0\n",
    "\n",
    "for data in dataset:\n",
    "    #encode image into circuit\n",
    "    circuit,image_re=run_part1(data['image'])\n",
    "    \n",
    "    #count the number of 2qubit gates used\n",
    "    gatecount+=count_gates(circuit)[2]\n",
    "    \n",
    "    #calculate mse\n",
    "    mse+=image_mse(data['image'],image_re)\n",
    "    \n",
    "#fidelity of reconstruction\n",
    "f=1-mse\n",
    "gatecount=gatecount/n\n",
    "\n",
    "#score for part1 \n",
    "print(f*(0.999**gatecount))"
   ]
  },
  {
   "cell_type": "code",
   "execution_count": null,
   "metadata": {},
   "outputs": [],
   "source": []
  }
 ],
 "metadata": {
  "kernelspec": {
   "display_name": "311",
   "language": "python",
   "name": "python3"
  },
  "language_info": {
   "codemirror_mode": {
    "name": "ipython",
    "version": 3
   },
   "file_extension": ".py",
   "mimetype": "text/x-python",
   "name": "python",
   "nbconvert_exporter": "python",
   "pygments_lexer": "ipython3",
   "version": "3.11.0"
  },
  "orig_nbformat": 4,
  "vscode": {
   "interpreter": {
    "hash": "07b300163aa49736bc99c2e65c19119dd077db61d3deffc047b36e340452655c"
   }
  }
 },
 "nbformat": 4,
 "nbformat_minor": 2
}
